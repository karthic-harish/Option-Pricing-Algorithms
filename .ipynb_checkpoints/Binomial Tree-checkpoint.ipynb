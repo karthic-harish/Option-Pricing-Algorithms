{
 "cells": [
  {
   "cell_type": "markdown",
   "metadata": {},
   "source": [
    "# Model Parameters\n",
    "\n",
    "We will price options on a stock with 15% annualized volatility of log returns. We will assume that when the option is valued:\n",
    "\n",
    "1. The stock price is $50\n",
    "\n",
    "2. The stock pays an annualized 2% dividend. The dividend is **paid continuously** throughout the year.\n",
    "\n",
    "3. The annualized risk-free rate is 5% (**continuously compounded rate**).\n",
    "\n",
    "We will value European put and call options. \n",
    "\n",
    "- Both have a strike price of $55. \n",
    "- Both options will expire one year and two months from now. \n",
    "- Assume a 360 day year, with 30 days in each month."
   ]
  },
  {
   "cell_type": "code",
   "execution_count": 7,
   "metadata": {},
   "outputs": [],
   "source": [
    "import math\n",
    "import numpy as np\n",
    "\n",
    "# Set model parameters\n",
    "\n",
    "vol_log_returns = 0.15\n",
    "stock_price = 50\n",
    "annualized_dividend = 0.02\n",
    "strike_price = 55\n",
    "days_in_year = 360\n",
    "days_per_period = 30\n",
    "\n",
    "rf = 0.05\n",
    "m = 360\n",
    "n = 420\n",
    "T = n / m"
   ]
  },
  {
   "cell_type": "code",
   "execution_count": 8,
   "metadata": {},
   "outputs": [],
   "source": [
    "def put_from_call(call_premium):\n",
    "    return call_premium - stock_price + (strike_price * math.exp(-rf * T))\n",
    "\n",
    "def call_from_put(put_premium):\n",
    "    return stock_price - (strike_price * math.exp(-rf * T)) + put_premium"
   ]
  },
  {
   "cell_type": "code",
   "execution_count": 9,
   "metadata": {},
   "outputs": [],
   "source": [
    "def pascaline(n):\n",
    "    line = [1]\n",
    "    for k in range(max(n,0)):             \n",
    "        line.append(line[k]*(n-k)//(k+1))             \n",
    "    return line"
   ]
  },
  {
   "cell_type": "markdown",
   "metadata": {},
   "source": [
    "### What are the option prices when the number of time steps in the binomial tree equals 100? 500? 1,000?"
   ]
  },
  {
   "cell_type": "code",
   "execution_count": 10,
   "metadata": {},
   "outputs": [
    {
     "name": "stdout",
     "output_type": "stream",
     "text": [
      "Pricing with steps = 100\n",
      "\tBinomial call option price: 25.293103426343976\n",
      "\tPut-Call parity call option price: 27.466666471192884\n",
      "\n",
      "\tBinomial put option price: 29.350116214234955\n",
      "\tPut-Call parity put option price: 27.176553169386047\n",
      "\n",
      "\n",
      "Pricing with steps = 500\n",
      "\tBinomial call option price: 45.76661120843716\n",
      "\tPut-Call parity call option price: 45.20795777012216\n",
      "\n",
      "\tBinomial put option price: 47.09140751316423\n",
      "\tPut-Call parity put option price: 47.65006095147923\n",
      "\n",
      "\n",
      "Pricing with steps = 1000\n",
      "\tBinomial call option price: 53.25387778798684\n",
      "\tPut-Call parity call option price: 49.059424736562974\n",
      "\n",
      "\tBinomial put option price: 50.942874479605045\n",
      "\tPut-Call parity put option price: 55.13732753102891\n",
      "\n",
      "\n"
     ]
    }
   ],
   "source": [
    "steps = [100, 500, 1000]\n",
    "\n",
    "u = math.exp(vol_log_returns)\n",
    "d = 1/u\n",
    "\n",
    "pu = (math.exp(rf / days_in_year) - d) / (u - d)\n",
    "pd = 1 - pu\n",
    "\n",
    "for s in steps:\n",
    "    print(\"Pricing with steps =\", s)\n",
    "  \n",
    "    expectation_C = 0\n",
    "    expectation_P = 0\n",
    "    coef = pascaline(s)\n",
    "  \n",
    "    for i in range(s + 1):\n",
    "        S = stock_price * (u ** (s - i)) * (d ** i)\n",
    "        C = max(S - strike_price, 0)\n",
    "        P = max(strike_price - S, 0)\n",
    "    \n",
    "        prob = coef[i] * (pu ** (s - i)) * (pd ** i)\n",
    "    \n",
    "        expectation_C += prob * C\n",
    "        expectation_P += prob * P\n",
    "  \n",
    "    call_price = expectation_C * math.exp(-rf * T)\n",
    "    put_price = expectation_P * math.exp(-rf * T)\n",
    "    print(\"\\tBinomial call option price:\", call_price)\n",
    "    print(\"\\tPut-Call parity call option price:\", call_from_put(put_price))\n",
    "    print(\"\")\n",
    "    print(\"\\tBinomial put option price:\", put_price)\n",
    "    print(\"\\tPut-Call parity put option price:\", put_from_call(call_price))\n",
    "    print(\"\\n\")"
   ]
  }
 ],
 "metadata": {
  "kernelspec": {
   "display_name": "Python 3",
   "language": "python",
   "name": "python3"
  },
  "language_info": {
   "codemirror_mode": {
    "name": "ipython",
    "version": 3
   },
   "file_extension": ".py",
   "mimetype": "text/x-python",
   "name": "python",
   "nbconvert_exporter": "python",
   "pygments_lexer": "ipython3",
   "version": "3.6.5"
  }
 },
 "nbformat": 4,
 "nbformat_minor": 2
}
