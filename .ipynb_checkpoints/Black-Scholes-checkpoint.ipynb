{
 "cells": [
  {
   "cell_type": "markdown",
   "metadata": {},
   "source": [
    "# Model Parameters\n",
    "\n",
    "We will price options on a stock with 15% annualized volatility of log returns. We will assume that when the option is valued:\n",
    "\n",
    "1. The stock price is $50\n",
    "\n",
    "2. The stock pays an annualized 2% dividend. The dividend is **paid continuously** throughout the year.\n",
    "\n",
    "3. The annualized risk-free rate is 5% (**continuously compounded rate**).\n",
    "\n",
    "We will value European put and call options. \n",
    "\n",
    "- Both have a strike price of $55. \n",
    "- Both options will expire one year and two months from now. \n",
    "- Assume a 360 day year, with 30 days in each month."
   ]
  },
  {
   "cell_type": "code",
   "execution_count": null,
   "metadata": {},
   "outputs": [],
   "source": []
  }
 ],
 "metadata": {
  "kernelspec": {
   "display_name": "Python 3",
   "language": "python",
   "name": "python3"
  },
  "language_info": {
   "codemirror_mode": {
    "name": "ipython",
    "version": 3
   },
   "file_extension": ".py",
   "mimetype": "text/x-python",
   "name": "python",
   "nbconvert_exporter": "python",
   "pygments_lexer": "ipython3",
   "version": "3.6.5"
  }
 },
 "nbformat": 4,
 "nbformat_minor": 2
}
