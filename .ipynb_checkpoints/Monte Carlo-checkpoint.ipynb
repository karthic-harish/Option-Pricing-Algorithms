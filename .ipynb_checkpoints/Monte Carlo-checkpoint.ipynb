{
 "cells": [
  {
   "cell_type": "markdown",
   "metadata": {},
   "source": [
    "# Model Parameters\n",
    "\n",
    "We will price options on a stock with 15% annualized volatility of log returns. We will assume that when the option is valued:\n",
    "\n",
    "1. The stock price is $50\n",
    "\n",
    "2. The stock pays an annualized 2% dividend. The dividend is **paid continuously** throughout the year.\n",
    "\n",
    "3. The annualized risk-free rate is 5% (**continuously compounded rate**).\n",
    "\n",
    "We will value European put and call options. \n",
    "\n",
    "- Both have a strike price of $55. \n",
    "- Both options will expire one year and two months (14 months) from now. \n",
    "- Assume a 360 day year, with 30 days in each month.\n"
   ]
  },
  {
   "cell_type": "code",
   "execution_count": 1,
   "metadata": {},
   "outputs": [],
   "source": [
    "import math\n",
    "import numpy as np\n",
    "import matplotlib.pyplot as plt"
   ]
  },
  {
   "cell_type": "markdown",
   "metadata": {},
   "source": [
    "## Formulas\n",
    "\n",
    "\n",
    "1)\n",
    "\n",
    "$r_{f \\Delta{t}} = \\frac{r_{f}}{m}$\n",
    "\n",
    "$r_{f}$ = Annual risk free interest rate with continuously compounding\n",
    "\n",
    "m = Number of time steps in one year.\n",
    "\n",
    "Example: If $\\Delta{t}$ is one day, m = 365 **(360 in our case)**\n",
    "\n",
    "<br>\n",
    "\n",
    "2)\n",
    "\n",
    "$\\sigma^2_{\\Delta{t}} = \\frac{\\sigma^2}{m}$\n",
    "\n",
    "$\\sigma^2$ = Annualized variance of log normal returns\n",
    "\n",
    "m = Number of time steps in one year.\n",
    "\n",
    "Example: If $\\Delta{t}$ is one day, m = 365 **(360 in our case)**\n",
    "\n",
    "<br>\n",
    "\n",
    "3)\n",
    "\n",
    "$T = \\frac{n}{m}$\n",
    "\n",
    "n = Number of time steps **to expiry**.\n",
    "Example: If $\\Delta{t}$ is one day, and the option expires in 14 months, n = 420\n",
    "\n",
    "<br>\n",
    "\n",
    "**Monte Carlo steps:**\n",
    "\n",
    "1. For each iteration i, Sample $r_{T, i}$ from a normal distribution\n",
    "\n",
    "$r_{T, i} = N((r_{f} - \\frac{1}{2}\\sigma^2)*T, \\sigma^2 T)$\n",
    "\n",
    "2. Calculate $𝑆_{T}$ given the sampled return:\n",
    "\n",
    "$𝑆_{T, i} = 𝑆_{T} * e^{r_{T, i}}$\n",
    "\n",
    "3. Calculate the call option payout for the sampled return\n",
    "\n",
    "Call Payout(i) = $max(𝑆_{T, i} - X ,0)$\n",
    "\n",
    "4. Store call payout (i) in a list\n",
    "\n",
    "\n",
    "5. Repeat steps 1-4\n",
    "\n",
    "\n",
    "6. Calculate expected payout by taking arithmetic mean\n",
    "\n",
    "\n",
    "7. Calculate option price\n",
    "\n",
    "Call Option Price = $E(Call Payout)* e^{-r_{f}T}$"
   ]
  },
  {
   "cell_type": "code",
   "execution_count": 2,
   "metadata": {},
   "outputs": [],
   "source": [
    "import math\n",
    "import numpy as np\n",
    "\n",
    "# Set model parameters\n",
    "\n",
    "vol_log_returns = 0.15\n",
    "stock_price = 50\n",
    "annualized_dividend = 0.02\n",
    "strike_price = 55\n",
    "days_in_year = 360\n",
    "days_per_period = 30\n",
    "\n",
    "rf = 0.05\n",
    "m = 360\n",
    "n = 420\n",
    "T = n / m"
   ]
  },
  {
   "cell_type": "code",
   "execution_count": 3,
   "metadata": {},
   "outputs": [],
   "source": [
    "def put_from_call(call_premium):\n",
    "    return call_premium - stock_price + (strike_price * math.exp(-rf * T))\n",
    "\n",
    "def call_from_put(put_premium):\n",
    "    return stock_price - (strike_price * math.exp(-rf * T)) + put_premium"
   ]
  },
  {
   "cell_type": "markdown",
   "metadata": {},
   "source": [
    "### What are the option prices when the number of iterations, N, equals 1,000? 10,000? 100,000?"
   ]
  },
  {
   "cell_type": "code",
   "execution_count": 4,
   "metadata": {},
   "outputs": [
    {
     "name": "stdout",
     "output_type": "stream",
     "text": [
      "Simulating for N = 1000\n",
      "\tMonte-Carlo call option price: 2.5660483944243264\n",
      "\tCall-Put parity call option price: 2.3012029083151866\n",
      "\n",
      "\tMonte-Carlo put option price: 4.184652651357258\n",
      "\tPut-Call parity put option price: 4.449498137466399\n",
      "\n",
      "\n",
      "Simulating for N = 10000\n",
      "\tMonte-Carlo call option price: 2.399026670189336\n",
      "\tCall-Put parity call option price: 2.426111308679726\n",
      "\n",
      "\tMonte-Carlo put option price: 4.309561051721797\n",
      "\tPut-Call parity put option price: 4.282476413231407\n",
      "\n",
      "\n",
      "Simulating for N = 100000\n",
      "\tMonte-Carlo call option price: 2.4150015362131816\n",
      "\tCall-Put parity call option price: 2.4463311636155716\n",
      "\n",
      "\tMonte-Carlo put option price: 4.329780906657643\n",
      "\tPut-Call parity put option price: 4.298451279255254\n",
      "\n",
      "\n"
     ]
    }
   ],
   "source": [
    "N = [1000, 10000, 100000]\n",
    "\n",
    "for iters in N:\n",
    "    print(\"Simulating for N =\", iters)\n",
    "  \n",
    "  # Perform Monte-Carlo for call option\n",
    "    call_payouts = []\n",
    "    call_payout_sum = 0\n",
    "    \n",
    "    for i in range(iters):\n",
    "        r_T_i = np.random.normal((rf - (0.5 * (vol_log_returns ** 2))) * T, np.sqrt((vol_log_returns ** 2) * T))\n",
    "        S_T_i = stock_price * math.exp(r_T_i)\n",
    "        call_payout = max(S_T_i - strike_price, 0)\n",
    "        \n",
    "        call_payouts.append(call_payout)\n",
    "        call_payout_sum += call_payout\n",
    "    \n",
    "    expected_call_payout = call_payout_sum / iters\n",
    "    call_option_price = expected_call_payout * math.exp(-rf * T)\n",
    "  \n",
    "  # Perform Monte-Carlo for put option\n",
    "    put_payouts = []\n",
    "    put_payout_sum = 0\n",
    "    \n",
    "    for i in range(iters):\n",
    "        r_T_i = np.random.normal((rf - (0.5 * (vol_log_returns ** 2))) * T, np.sqrt((vol_log_returns ** 2) * T))\n",
    "        S_T_i = stock_price * math.exp(r_T_i)\n",
    "        put_payout = max(strike_price - S_T_i, 0)\n",
    "        \n",
    "        put_payouts.append(put_payout)\n",
    "        put_payout_sum += put_payout\n",
    "        \n",
    "    expected_put_payout = put_payout_sum / iters\n",
    "    put_option_price = expected_put_payout * math.exp(-rf * T)\n",
    "    \n",
    "    \n",
    "    print(\"\\tMonte-Carlo call option price:\", call_option_price)\n",
    "    print(\"\\tCall-Put parity call option price:\", call_from_put(put_option_price))\n",
    "    print(\"\")\n",
    "    print(\"\\tMonte-Carlo put option price:\", put_option_price)\n",
    "    print(\"\\tPut-Call parity put option price:\", put_from_call(call_option_price))\n",
    "    print(\"\\n\")"
   ]
  },
  {
   "cell_type": "markdown",
   "metadata": {},
   "source": [
    "### Call Option"
   ]
  },
  {
   "cell_type": "markdown",
   "metadata": {},
   "source": [
    "**For each simulation:**\n",
    "\n",
    "\n",
    "1. Report the option price.\n",
    "\n",
    "\n",
    "2. If the simulation is for the call option, price the put option using put-call parity and the call option value from the Monte Carlo simulation.\n",
    "\n",
    "\n",
    "3. If the simulation is for the put option, price the call option using put-call parity and the call option value from the Monte Carlo simulation.\n",
    "\n",
    "\n",
    "4. Report the simulated option prices and option prices using put-call parity. What happens to the difference between the put-call parity price and the simulated option price?"
   ]
  }
 ],
 "metadata": {
  "kernelspec": {
   "display_name": "Python 3",
   "language": "python",
   "name": "python3"
  },
  "language_info": {
   "codemirror_mode": {
    "name": "ipython",
    "version": 3
   },
   "file_extension": ".py",
   "mimetype": "text/x-python",
   "name": "python",
   "nbconvert_exporter": "python",
   "pygments_lexer": "ipython3",
   "version": "3.6.5"
  }
 },
 "nbformat": 4,
 "nbformat_minor": 2
}
