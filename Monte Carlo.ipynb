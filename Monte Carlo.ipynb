{
 "cells": [
  {
   "cell_type": "markdown",
   "metadata": {},
   "source": [
    "# Model Parameters\n",
    "\n",
    "We will price options on a stock with 15% annualized volatility of log returns. We will assume that when the option is valued:\n",
    "\n",
    "1. The stock price is $50\n",
    "\n",
    "2. The stock pays an annualized 2% dividend. The dividend is **paid continuously** throughout the year.\n",
    "\n",
    "3. The annualized risk-free rate is 5% (**continuously compounded rate**).\n",
    "\n",
    "We will value European put and call options. \n",
    "\n",
    "- Both have a strike price of $55. \n",
    "- Both options will expire one year and two months (14 months) from now. \n",
    "- Assume a 360 day year, with 30 days in each month.\n"
   ]
  },
  {
   "cell_type": "code",
   "execution_count": 38,
   "metadata": {},
   "outputs": [],
   "source": [
    "import math\n",
    "import numpy as np\n",
    "import matplotlib.pyplot as plt"
   ]
  },
  {
   "cell_type": "markdown",
   "metadata": {},
   "source": [
    "## Formulas\n",
    "\n",
    "\n",
    "1)\n",
    "\n",
    "$r_{f \\Delta{t}} = \\frac{r_{f}}{m}$\n",
    "\n",
    "$r_{f}$ = Annual risk free interest rate with continuously compounding\n",
    "\n",
    "m = Number of time steps in one year.\n",
    "\n",
    "Example: If $\\Delta{t}$ is one day, m = 365 **(360 in our case)**\n",
    "\n",
    "<br>\n",
    "\n",
    "2)\n",
    "\n",
    "$\\sigma^2_{\\Delta{t}} = \\frac{\\sigma^2}{m}$\n",
    "\n",
    "$\\sigma^2$ = Annualized variance of log normal returns\n",
    "\n",
    "m = Number of time steps in one year.\n",
    "\n",
    "Example: If $\\Delta{t}$ is one day, m = 365 **(360 in our case)**\n",
    "\n",
    "<br>\n",
    "\n",
    "3)\n",
    "\n",
    "$T = \\frac{n}{m}$\n",
    "\n",
    "n = Number of time steps **to expiry**.\n",
    "Example: If $\\Delta{t}$ is one day, and the option expires in 14 months, n = 420\n",
    "\n",
    "<br>\n",
    "\n",
    "**Monte Carlo steps:**\n",
    "\n",
    "1. For each iteration i, Sample $r_{T, i}$ from a normal distribution\n",
    "\n",
    "$r_{T, i} = N((r_{f} - \\frac{1}{2}\\sigma^2)*T, \\sigma^2\\sqrt{T})$\n",
    "\n",
    "2. Calculate $𝑆_{T}$ given the sampled return:\n",
    "\n",
    "$𝑆_{T, i} = 𝑆_{T} * e^{r_{T, i}}$\n",
    "\n",
    "3. Calculate the call option payout for the sampled return\n",
    "\n",
    "Call Payout(i) = $max(𝑆_{T, i} - X ,0)$\n",
    "\n",
    "4. Store call payout (i) in a list\n",
    "\n",
    "\n",
    "5. Repeat steps 1-4\n",
    "\n",
    "\n",
    "6. Calculate expected payout by taking arithmetic mean\n",
    "\n",
    "\n",
    "7. Calculate option price\n",
    "\n",
    "Call Option Price = $E(Call Payout)* e^{-r_{f}T}$"
   ]
  },
  {
   "cell_type": "code",
   "execution_count": 39,
   "metadata": {},
   "outputs": [],
   "source": [
    "m = 360 # days in year\n",
    "n = 14*30 # 14 months * 30 days\n",
    "t = 420/360 # see formula\n",
    "\n",
    "st = 50 # stock price\n",
    "x = 55 # strike price \n",
    "\n",
    "rf = 0.05 # annualized risk free i/r compounded continuously\n",
    "rf_t = 0.05/360\n",
    "\n",
    "var = 0.15\n",
    "sigma = math.sqrt(0.15)\n",
    "sigma_t = math.sqrt(0.15/360) # see formula\n",
    "\n",
    "mew_rti = (rf - 0.5*var)*t\n",
    "var_rti = var*t\n",
    "\n",
    "payouts = []"
   ]
  },
  {
   "cell_type": "code",
   "execution_count": 40,
   "metadata": {},
   "outputs": [],
   "source": [
    "#sample from normal distr, calculate payout and append to list\n",
    "\n",
    "# haven't taken into account dividend\n",
    "\n",
    "def sampling(n):\n",
    "    for i in range(n):\n",
    "        rti = np.random.normal(mew_rti, math.sqrt(var_rti), 1)\n",
    "        sti = st*math.exp(rti)\n",
    "        payouts.append(max(sti-x, 0))"
   ]
  },
  {
   "cell_type": "markdown",
   "metadata": {},
   "source": [
    "### What are the option prices when the number of iterations, N, equals 1,000? 10,000? 100,000?"
   ]
  },
  {
   "cell_type": "markdown",
   "metadata": {},
   "source": [
    "### Call Option"
   ]
  },
  {
   "cell_type": "code",
   "execution_count": 41,
   "metadata": {
    "scrolled": true
   },
   "outputs": [
    {
     "name": "stdout",
     "output_type": "stream",
     "text": [
      "Call Option price = $7.07\n"
     ]
    }
   ],
   "source": [
    "payouts = []\n",
    "sampling(1000)\n",
    "expected = sum(payouts)/len(payouts)\n",
    "price = expected * math.exp(-rf*t)\n",
    "print(\"Call Option price = $\" + str(round(price, 3)))"
   ]
  },
  {
   "cell_type": "code",
   "execution_count": 42,
   "metadata": {},
   "outputs": [
    {
     "name": "stdout",
     "output_type": "stream",
     "text": [
      "Call Option price = $7.643\n"
     ]
    }
   ],
   "source": [
    "payouts = []\n",
    "sampling(10000)\n",
    "expected = sum(payouts)/len(payouts)\n",
    "price = expected * math.exp(-rf*t)\n",
    "print(\"Call Option price = $\" + str(round(price, 3)))"
   ]
  },
  {
   "cell_type": "code",
   "execution_count": 43,
   "metadata": {},
   "outputs": [
    {
     "name": "stdout",
     "output_type": "stream",
     "text": [
      "Call Option price = $7.558\n"
     ]
    }
   ],
   "source": [
    "payouts = []\n",
    "sampling(100000)\n",
    "expected = sum(payouts)/len(payouts)\n",
    "price = expected * math.exp(-rf*t)\n",
    "print(\"Call Option price = $\" + str(round(price, 3)))"
   ]
  },
  {
   "cell_type": "markdown",
   "metadata": {},
   "source": [
    "**For each simulation:**\n",
    "\n",
    "\n",
    "1. Report the option price.\n",
    "\n",
    "\n",
    "2. If the simulation is for the call option, price the put option using put-call parity and the call option value from the Monte Carlo simulation.\n",
    "\n",
    "\n",
    "3. If the simulation is for the put option, price the call option using put-call parity and the call option value from the Monte Carlo simulation.\n",
    "\n",
    "\n",
    "4. Report the simulated option prices and option prices using put-call parity. What happens to the difference between the put-call parity price and the simulated option price?"
   ]
  }
 ],
 "metadata": {
  "kernelspec": {
   "display_name": "Python 3",
   "language": "python",
   "name": "python3"
  },
  "language_info": {
   "codemirror_mode": {
    "name": "ipython",
    "version": 3
   },
   "file_extension": ".py",
   "mimetype": "text/x-python",
   "name": "python",
   "nbconvert_exporter": "python",
   "pygments_lexer": "ipython3",
   "version": "3.6.5"
  }
 },
 "nbformat": 4,
 "nbformat_minor": 2
}
